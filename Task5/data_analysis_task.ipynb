{
 "cells": [
  {
   "cell_type": "markdown",
   "id": "ac958484",
   "metadata": {},
   "source": [
    "# Task 05 - Data Analysis on CSV Files"
   ]
  },
  {
   "cell_type": "code",
   "execution_count": null,
   "id": "9d01efa0",
   "metadata": {},
   "outputs": [],
   "source": [
    "import pandas as pd\n",
    "import matplotlib.pyplot as plt"
   ]
  },
  {
   "cell_type": "code",
   "execution_count": null,
   "id": "9408b4f2",
   "metadata": {},
   "outputs": [],
   "source": [
    "df = pd.read_csv('sales.csv')\n",
    "df.head()"
   ]
  },
  {
   "cell_type": "code",
   "execution_count": null,
   "id": "79fba0b2",
   "metadata": {},
   "outputs": [],
   "source": [
    "df.groupby('Product')['Sales'].sum().plot(kind='bar', title='Total Sales by Product')\n",
    "plt.xlabel('Product')\n",
    "plt.ylabel('Sales')\n",
    "plt.show()"
   ]
  },
  {
   "cell_type": "code",
   "execution_count": null,
   "id": "1254dc41",
   "metadata": {},
   "outputs": [],
   "source": [
    "df.groupby('Region')['Sales'].sum().plot(kind='bar', title='Total Sales by Region', color='green')\n",
    "plt.xlabel('Region')\n",
    "plt.ylabel('Sales')\n",
    "plt.show()"
   ]
  }
 ],
 "metadata": {},
 "nbformat": 4,
 "nbformat_minor": 5
}